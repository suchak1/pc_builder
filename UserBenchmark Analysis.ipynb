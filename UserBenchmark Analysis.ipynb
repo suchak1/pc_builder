{
 "cells": [
  {
   "cell_type": "code",
   "execution_count": 1,
   "metadata": {},
   "outputs": [],
   "source": [
    "import os\n",
    "import requests\n",
    "from datetime import date, datetime, timedelta\n",
    "import pandas as pd"
   ]
  },
  {
   "cell_type": "markdown",
   "metadata": {},
   "source": [
    "## Getting the Data\n",
    "\n",
    "First, we check to see if recent (less than a week old) UserBenchmark data exists in the directory. If not, we download the latest csv files from source."
   ]
  },
  {
   "cell_type": "code",
   "execution_count": 5,
   "metadata": {},
   "outputs": [],
   "source": [
    "parts = ['CPU', 'GPU', 'SSD', 'RAM']\n",
    "\n",
    "def get_filename(part):\n",
    "    return f'{part}_UserBenchmarks.csv'\n",
    "\n",
    "def update_data(parts):\n",
    "    try:\n",
    "        os.mkdir('data')\n",
    "    except:\n",
    "        pass\n",
    "    \n",
    "    os.chdir('data')\n",
    "    \n",
    "    for part in parts:\n",
    "        download = False\n",
    "        filename = get_filename(part)\n",
    "        \n",
    "        if os.path.exists(filename):\n",
    "            timestamp = os.path.getmtime(filename)\n",
    "            modified = datetime.fromtimestamp(timestamp)\n",
    "            delta = datetime.today() - modified\n",
    "            if delta > timedelta(days = 7):\n",
    "                download = True\n",
    "        else:\n",
    "            download = True\n",
    "            \n",
    "        if download:\n",
    "            url = f'https://www.userbenchmark.com/resources/download/csv/{filename}'\n",
    "            response = requests.get(url)\n",
    "            with open(filename, 'wb') as file:\n",
    "                file.write(response.content)\n",
    "    os.chdir('..')\n",
    "update_data(parts)"
   ]
  }
 ],
 "metadata": {
  "kernelspec": {
   "display_name": "Python 3",
   "language": "python",
   "name": "python3"
  },
  "language_info": {
   "codemirror_mode": {
    "name": "ipython",
    "version": 3
   },
   "file_extension": ".py",
   "mimetype": "text/x-python",
   "name": "python",
   "nbconvert_exporter": "python",
   "pygments_lexer": "ipython3",
   "version": "3.7.4"
  }
 },
 "nbformat": 4,
 "nbformat_minor": 2
}
